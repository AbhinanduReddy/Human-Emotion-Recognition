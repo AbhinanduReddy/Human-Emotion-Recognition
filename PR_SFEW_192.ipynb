{
  "nbformat": 4,
  "nbformat_minor": 0,
  "metadata": {
    "colab": {
      "name": "PR_SFEW_192.ipynb",
      "provenance": []
    },
    "kernelspec": {
      "name": "python3",
      "display_name": "Python 3"
    },
    "accelerator": "GPU"
  },
  "cells": [
    {
      "cell_type": "code",
      "metadata": {
        "id": "MNnZE9EiPYww"
      },
      "source": [
        "import tensorflow as tf\n",
        "import matplotlib.pyplot as plt\n",
        "\n",
        "from keras.callbacks import EarlyStopping, ModelCheckpoint, ReduceLROnPlateau\n",
        "from keras.applications import ResNet50, Xception, InceptionResNetV2\n",
        "from tensorflow.keras import layers\n",
        "from keras.layers.normalization import BatchNormalization\n",
        "import keras\n",
        "import dlib\n",
        "import cv2\n",
        "from sklearn import preprocessing\n",
        "from imutils import face_utils\n",
        "import numpy as np\n",
        "from keras.optimizers import SGD,Adam\n",
        "from keras.layers import UpSampling2D\n",
        "from tensorflow.keras import Model\n",
        "\n",
        "from keras.utils import to_categorical\n",
        "\n",
        "from keras.models import Sequential\n",
        "from keras.layers import Conv2D, MaxPooling2D, AveragePooling2D\n",
        "from keras.layers import Dense, Activation, Dropout, Flatten\n",
        "\n",
        "from keras.preprocessing import image\n",
        "from keras.preprocessing.image import ImageDataGenerator\n",
        "from PIL import Image\n",
        "from numpy.random import seed\n",
        "from sklearn.metrics import confusion_matrix\n",
        "import matplotlib.pyplot as plt\n",
        "from sklearn.model_selection import train_test_split"
      ],
      "execution_count": null,
      "outputs": []
    },
    {
      "cell_type": "code",
      "metadata": {
        "id": "ysVuEtcAQs0v"
      },
      "source": [
        "X_train = np.load('/content/drive/MyDrive/DATASETS/X_train_SFEW_192.npy')\n",
        "y_train = np.load('/content/drive/MyDrive/DATASETS/y_train_SFEW_192.npy')\n",
        "X_test = np.load('/content/drive/MyDrive/DATASETS/X_test_SFEW_192.npy')\n",
        "y_test = np.load('/content/drive/MyDrive/DATASETS/y_test_SFEW_192.npy')"
      ],
      "execution_count": null,
      "outputs": []
    },
    {
      "cell_type": "code",
      "metadata": {
        "colab": {
          "base_uri": "https://localhost:8080/"
        },
        "id": "fx1zuUkEQvzB",
        "outputId": "937c5d2c-ddfb-4118-fc9a-5d035bee3778"
      },
      "source": [
        "x_train_data = X_train\n",
        "print(x_train_data.shape)\n",
        "y_train_data = to_categorical(y_train, 7)\n",
        "print(y_train_data.shape)\n",
        "x_test_data = X_test\n",
        "print(x_test_data.shape)\n",
        "y_test_data = to_categorical(y_test, 7)\n",
        "print(y_test_data.shape)"
      ],
      "execution_count": null,
      "outputs": [
        {
          "output_type": "stream",
          "text": [
            "(346, 192, 192, 3)\n",
            "(346, 7)\n",
            "(354, 192, 192, 3)\n",
            "(354, 7)\n"
          ],
          "name": "stdout"
        }
      ]
    },
    {
      "cell_type": "code",
      "metadata": {
        "id": "xJhZ3evjQxeZ"
      },
      "source": [
        "from sklearn.model_selection import train_test_split\n",
        "x_train_final, x_valid_final, y_train_final, y_valid_final = train_test_split(x_train_data, y_train_data, test_size=0.1, random_state=42)"
      ],
      "execution_count": null,
      "outputs": []
    },
    {
      "cell_type": "code",
      "metadata": {
        "colab": {
          "base_uri": "https://localhost:8080/"
        },
        "id": "4KsicVwmQy3w",
        "outputId": "9d9e928a-90fa-4fdf-9b68-06d73d566d45"
      },
      "source": [
        "\n",
        "from keras.models import Sequential, load_model\n",
        "\n",
        "model = Sequential()\n",
        "model.add(Conv2D(64, kernel_size=(3, 3), input_shape=(192, 192, 3), activation='relu', padding='same',name='conv192_1'))\n",
        "model.add(Conv2D(64, kernel_size=(3, 3), input_shape=(192,192, 3), activation='relu', padding='same',name='conv192_3'))\n",
        "\n",
        "model.add(Conv2D(32, kernel_size=(3, 3), activation='relu', padding='same',name='conv192_2'))\n",
        "model.add(MaxPooling2D(pool_size=(2, 2),name='maxpool192_1'))\n",
        "\n",
        "\n",
        "prior = load_model('/content/drive/MyDrive/DATASETS/test_sfew__96.h5')\n",
        "\n",
        "\n",
        "for layer in prior.layers[3:]:\n",
        "    model.add(layer)\n",
        "\n",
        "\n",
        "for layer in prior.layers[-4:]:\n",
        "    print(layer)\n",
        "    layer.trainable = False\n",
        "from keras.optimizers import RMSprop\n",
        "\n",
        "model.compile(\n",
        "    optimizer=RMSprop(),\n",
        "    loss='categorical_crossentropy',\n",
        "    metrics=['accuracy']\n",
        ")"
      ],
      "execution_count": null,
      "outputs": [
        {
          "output_type": "stream",
          "text": [
            "<tensorflow.python.keras.layers.core.Flatten object at 0x7f9c90702470>\n",
            "<tensorflow.python.keras.layers.core.Dense object at 0x7f9c90708208>\n",
            "<tensorflow.python.keras.layers.core.Dropout object at 0x7f9cb0061d30>\n",
            "<tensorflow.python.keras.layers.core.Dense object at 0x7f9cb003f3c8>\n"
          ],
          "name": "stdout"
        }
      ]
    },
    {
      "cell_type": "code",
      "metadata": {
        "colab": {
          "base_uri": "https://localhost:8080/"
        },
        "id": "4n552Ln2Qzuy",
        "outputId": "414ce27c-bc1d-4e63-91cc-dfc914f6d879"
      },
      "source": [
        "\n",
        "#sgd = SGD(lr=0.0001, decay=1e-6, momentum=0.9, nesterov=True)\n",
        "#model.compile(loss='categorical_crossentropy', optimizer='sgd', metrics=['accuracy'])\n",
        "#callbacks = [ModelCheckpoint(weights, monitor='val_loss', save_best_only=True, verbose=0)]\n",
        "adam=Adam(learning_rate=0.001, beta_1=0.9, beta_2=0.999, amsgrad=False)\n",
        "model.compile(loss='categorical_crossentropy',optimizer = Adam(lr = 1e-4), metrics=['accuracy'])\n",
        "\n",
        "#model.fit(x_train_data,y_train_data,batch_size = 64,epochs=100)\n",
        "history = model.fit(x_train_final , y_train_final, batch_size=64,epochs=50,validation_data=(x_valid_final, y_valid_final),verbose=1, use_multiprocessing=True)\n",
        "\n",
        "#model.fit(X_train, Y_train, batch_size = 1000, nb_epoch = 5, verbose = 1, shuffle = True)\n"
      ],
      "execution_count": null,
      "outputs": [
        {
          "output_type": "stream",
          "text": [
            "Epoch 1/50\n",
            "5/5 [==============================] - 13s 911ms/step - loss: 2.3755 - accuracy: 0.1205 - val_loss: 1.8909 - val_accuracy: 0.2571\n",
            "Epoch 2/50\n",
            "5/5 [==============================] - 1s 249ms/step - loss: 2.0214 - accuracy: 0.1246 - val_loss: 1.7782 - val_accuracy: 0.2286\n",
            "Epoch 3/50\n",
            "5/5 [==============================] - 1s 249ms/step - loss: 1.8743 - accuracy: 0.1792 - val_loss: 1.6930 - val_accuracy: 0.4286\n",
            "Epoch 4/50\n",
            "5/5 [==============================] - 1s 251ms/step - loss: 1.7624 - accuracy: 0.3524 - val_loss: 1.6365 - val_accuracy: 0.4571\n",
            "Epoch 5/50\n",
            "5/5 [==============================] - 1s 251ms/step - loss: 1.6851 - accuracy: 0.3936 - val_loss: 1.5425 - val_accuracy: 0.4571\n",
            "Epoch 6/50\n",
            "5/5 [==============================] - 1s 250ms/step - loss: 1.4885 - accuracy: 0.5695 - val_loss: 1.4517 - val_accuracy: 0.4857\n",
            "Epoch 7/50\n",
            "5/5 [==============================] - 1s 251ms/step - loss: 1.3139 - accuracy: 0.6651 - val_loss: 1.3388 - val_accuracy: 0.6286\n",
            "Epoch 8/50\n",
            "5/5 [==============================] - 1s 254ms/step - loss: 1.2019 - accuracy: 0.7486 - val_loss: 1.1634 - val_accuracy: 0.6000\n",
            "Epoch 9/50\n",
            "5/5 [==============================] - 1s 253ms/step - loss: 1.1103 - accuracy: 0.7308 - val_loss: 1.0907 - val_accuracy: 0.6571\n",
            "Epoch 10/50\n",
            "5/5 [==============================] - 1s 250ms/step - loss: 0.9132 - accuracy: 0.8072 - val_loss: 0.9858 - val_accuracy: 0.6571\n",
            "Epoch 11/50\n",
            "5/5 [==============================] - 1s 253ms/step - loss: 0.7862 - accuracy: 0.8417 - val_loss: 0.9528 - val_accuracy: 0.6857\n",
            "Epoch 12/50\n",
            "5/5 [==============================] - 1s 254ms/step - loss: 0.7368 - accuracy: 0.8028 - val_loss: 0.8625 - val_accuracy: 0.6857\n",
            "Epoch 13/50\n",
            "5/5 [==============================] - 1s 277ms/step - loss: 0.6319 - accuracy: 0.8427 - val_loss: 0.8285 - val_accuracy: 0.7143\n",
            "Epoch 14/50\n",
            "5/5 [==============================] - 1s 257ms/step - loss: 0.6048 - accuracy: 0.8279 - val_loss: 0.8381 - val_accuracy: 0.6857\n",
            "Epoch 15/50\n",
            "5/5 [==============================] - 1s 256ms/step - loss: 0.5497 - accuracy: 0.8234 - val_loss: 0.7254 - val_accuracy: 0.8000\n",
            "Epoch 16/50\n",
            "5/5 [==============================] - 1s 254ms/step - loss: 0.4367 - accuracy: 0.8895 - val_loss: 0.7583 - val_accuracy: 0.7429\n",
            "Epoch 17/50\n",
            "5/5 [==============================] - 1s 258ms/step - loss: 0.4079 - accuracy: 0.9069 - val_loss: 0.6877 - val_accuracy: 0.7714\n",
            "Epoch 18/50\n",
            "5/5 [==============================] - 1s 257ms/step - loss: 0.3806 - accuracy: 0.9181 - val_loss: 0.7073 - val_accuracy: 0.7714\n",
            "Epoch 19/50\n",
            "5/5 [==============================] - 1s 257ms/step - loss: 0.3670 - accuracy: 0.9010 - val_loss: 0.6579 - val_accuracy: 0.7714\n",
            "Epoch 20/50\n",
            "5/5 [==============================] - 1s 257ms/step - loss: 0.3289 - accuracy: 0.9406 - val_loss: 0.6858 - val_accuracy: 0.7714\n",
            "Epoch 21/50\n",
            "5/5 [==============================] - 1s 257ms/step - loss: 0.2974 - accuracy: 0.9263 - val_loss: 0.6863 - val_accuracy: 0.7714\n",
            "Epoch 22/50\n",
            "5/5 [==============================] - 1s 259ms/step - loss: 0.2540 - accuracy: 0.9469 - val_loss: 0.6719 - val_accuracy: 0.7714\n",
            "Epoch 23/50\n",
            "5/5 [==============================] - 1s 259ms/step - loss: 0.2572 - accuracy: 0.9423 - val_loss: 0.6567 - val_accuracy: 0.8000\n",
            "Epoch 24/50\n",
            "5/5 [==============================] - 1s 256ms/step - loss: 0.2450 - accuracy: 0.9388 - val_loss: 0.6436 - val_accuracy: 0.7429\n",
            "Epoch 25/50\n",
            "5/5 [==============================] - 1s 260ms/step - loss: 0.2297 - accuracy: 0.9261 - val_loss: 0.6706 - val_accuracy: 0.7714\n",
            "Epoch 26/50\n",
            "5/5 [==============================] - 1s 258ms/step - loss: 0.2491 - accuracy: 0.9367 - val_loss: 0.6865 - val_accuracy: 0.7714\n",
            "Epoch 27/50\n",
            "5/5 [==============================] - 1s 260ms/step - loss: 0.2263 - accuracy: 0.9351 - val_loss: 0.7040 - val_accuracy: 0.7429\n",
            "Epoch 28/50\n",
            "5/5 [==============================] - 1s 261ms/step - loss: 0.2155 - accuracy: 0.9436 - val_loss: 0.6748 - val_accuracy: 0.7429\n",
            "Epoch 29/50\n",
            "5/5 [==============================] - 1s 259ms/step - loss: 0.2239 - accuracy: 0.9267 - val_loss: 0.6708 - val_accuracy: 0.7714\n",
            "Epoch 30/50\n",
            "5/5 [==============================] - 1s 261ms/step - loss: 0.2498 - accuracy: 0.9127 - val_loss: 0.7013 - val_accuracy: 0.8000\n",
            "Epoch 31/50\n",
            "5/5 [==============================] - 1s 261ms/step - loss: 0.2211 - accuracy: 0.9356 - val_loss: 0.6872 - val_accuracy: 0.8000\n",
            "Epoch 32/50\n",
            "5/5 [==============================] - 1s 261ms/step - loss: 0.2029 - accuracy: 0.9343 - val_loss: 0.6455 - val_accuracy: 0.7429\n",
            "Epoch 33/50\n",
            "5/5 [==============================] - 1s 263ms/step - loss: 0.1352 - accuracy: 0.9797 - val_loss: 0.6874 - val_accuracy: 0.7429\n",
            "Epoch 34/50\n",
            "5/5 [==============================] - 1s 261ms/step - loss: 0.1740 - accuracy: 0.9523 - val_loss: 0.6660 - val_accuracy: 0.7429\n",
            "Epoch 35/50\n",
            "5/5 [==============================] - 1s 262ms/step - loss: 0.1829 - accuracy: 0.9361 - val_loss: 0.7128 - val_accuracy: 0.7714\n",
            "Epoch 36/50\n",
            "5/5 [==============================] - 1s 261ms/step - loss: 0.1916 - accuracy: 0.9341 - val_loss: 0.7266 - val_accuracy: 0.7429\n",
            "Epoch 37/50\n",
            "5/5 [==============================] - 1s 263ms/step - loss: 0.1589 - accuracy: 0.9659 - val_loss: 0.7378 - val_accuracy: 0.7714\n",
            "Epoch 38/50\n",
            "5/5 [==============================] - 1s 264ms/step - loss: 0.1371 - accuracy: 0.9501 - val_loss: 0.7296 - val_accuracy: 0.8000\n",
            "Epoch 39/50\n",
            "5/5 [==============================] - 1s 262ms/step - loss: 0.1176 - accuracy: 0.9628 - val_loss: 0.6989 - val_accuracy: 0.7714\n",
            "Epoch 40/50\n",
            "5/5 [==============================] - 1s 263ms/step - loss: 0.1603 - accuracy: 0.9435 - val_loss: 0.6987 - val_accuracy: 0.7714\n",
            "Epoch 41/50\n",
            "5/5 [==============================] - 1s 263ms/step - loss: 0.1405 - accuracy: 0.9628 - val_loss: 0.7143 - val_accuracy: 0.7714\n",
            "Epoch 42/50\n",
            "5/5 [==============================] - 1s 263ms/step - loss: 0.1344 - accuracy: 0.9635 - val_loss: 0.7307 - val_accuracy: 0.7714\n",
            "Epoch 43/50\n",
            "5/5 [==============================] - 1s 265ms/step - loss: 0.1577 - accuracy: 0.9481 - val_loss: 0.7155 - val_accuracy: 0.7714\n",
            "Epoch 44/50\n",
            "5/5 [==============================] - 1s 266ms/step - loss: 0.1283 - accuracy: 0.9561 - val_loss: 0.7258 - val_accuracy: 0.8000\n",
            "Epoch 45/50\n",
            "5/5 [==============================] - 1s 265ms/step - loss: 0.1393 - accuracy: 0.9559 - val_loss: 0.6937 - val_accuracy: 0.7714\n",
            "Epoch 46/50\n",
            "5/5 [==============================] - 1s 264ms/step - loss: 0.1410 - accuracy: 0.9583 - val_loss: 0.7251 - val_accuracy: 0.7429\n",
            "Epoch 47/50\n",
            "5/5 [==============================] - 1s 266ms/step - loss: 0.0993 - accuracy: 0.9726 - val_loss: 0.7323 - val_accuracy: 0.7714\n",
            "Epoch 48/50\n",
            "5/5 [==============================] - 1s 264ms/step - loss: 0.0884 - accuracy: 0.9843 - val_loss: 0.7230 - val_accuracy: 0.8000\n",
            "Epoch 49/50\n",
            "5/5 [==============================] - 1s 264ms/step - loss: 0.0817 - accuracy: 0.9799 - val_loss: 0.7164 - val_accuracy: 0.7714\n",
            "Epoch 50/50\n",
            "5/5 [==============================] - 1s 263ms/step - loss: 0.1272 - accuracy: 0.9685 - val_loss: 0.7258 - val_accuracy: 0.8000\n"
          ],
          "name": "stdout"
        }
      ]
    },
    {
      "cell_type": "code",
      "metadata": {
        "id": "GqQJzrAWQ3Qr"
      },
      "source": [
        "import matplotlib.pyplot as plt             \n",
        "\n",
        "def plot_accuracy_loss(history):\n",
        "    fig = plt.figure(figsize=(10,5))\n",
        "    plt.subplot(221)\n",
        "    plt.plot(history.history['accuracy'], label = \"acc\")\n",
        "    plt.plot(history.history['val_accuracy'], label = \"val_acc\")\n",
        "    plt.title(\"train_acc vs val_acc\")\n",
        "    plt.ylabel(\"accuracy\")\n",
        "    plt.xlabel(\"epochs\")\n",
        "    plt.legend()\n",
        "    plt.subplot(222)\n",
        "    plt.plot(history.history['loss'] ,label = \"loss\")\n",
        "    plt.plot(history.history['val_loss'], label = \"val_loss\")\n",
        "    plt.title(\"train_loss vs val_loss\")\n",
        "    plt.ylabel(\"loss\")\n",
        "    plt.xlabel(\"epochs\")\n",
        "\n",
        "    plt.legend()\n",
        "    plt.show()"
      ],
      "execution_count": null,
      "outputs": []
    },
    {
      "cell_type": "code",
      "metadata": {
        "colab": {
          "base_uri": "https://localhost:8080/",
          "height": 201
        },
        "id": "4ag4wg1DQ4mT",
        "outputId": "c362dfee-4949-4068-ef09-710e94edd083"
      },
      "source": [
        "plot_accuracy_loss(history)"
      ],
      "execution_count": null,
      "outputs": [
        {
          "output_type": "display_data",
          "data": {
            "image/png": "[encoded data removed]",
            "text/plain": [
              "<Figure size 720x360 with 2 Axes>"
            ]
          },
          "metadata": {
            "tags": [],
            "needs_background": "light"
          }
        }
      ]
    },
    {
      "cell_type": "code",
      "metadata": {
        "colab": {
          "base_uri": "https://localhost:8080/"
        },
        "id": "EIZZNiySQ6Ff",
        "outputId": "062c35f6-ebe1-4879-f0c1-d5491c62f463"
      },
      "source": [
        "from sklearn.metrics import classification_report\n",
        "from keras.models import Sequential, load_model\n",
        "\n",
        "#model=load_model('/content/drive/MyDrive/DATASETS/test2_48.h5')\n",
        "model.summary()\n",
        "predicted = model.predict(X_test)\n",
        "pred_labels = np.argmax(predicted, axis = 1)\n",
        "report = classification_report(y_test, pred_labels)\n",
        "print(report)"
      ],
      "execution_count": null,
      "outputs": [
        {
          "output_type": "stream",
          "text": [
            "Model: \"sequential\"\n",
            "_________________________________________________________________\n",
            "Layer (type)                 Output Shape              Param #   \n",
            "=================================================================\n",
            "conv192_1 (Conv2D)           (None, 192, 192, 64)      1792      \n",
            "_________________________________________________________________\n",
            "conv192_3 (Conv2D)           (None, 192, 192, 64)      36928     \n",
            "_________________________________________________________________\n",
            "conv192_2 (Conv2D)           (None, 192, 192, 32)      18464     \n",
            "_________________________________________________________________\n",
            "maxpool192_1 (MaxPooling2D)  (None, 96, 96, 32)        0         \n",
            "_________________________________________________________________\n",
            "maxpool96_1 (MaxPooling2D)   (None, 48, 48, 32)        0         \n",
            "_________________________________________________________________\n",
            "max_pooling2d_10 (MaxPooling (None, 24, 24, 32)        0         \n",
            "_________________________________________________________________\n",
            "conv2d_11 (Conv2D)           (None, 22, 22, 64)        18496     \n",
            "_________________________________________________________________\n",
            "max_pooling2d_11 (MaxPooling (None, 11, 11, 64)        0         \n",
            "_________________________________________________________________\n",
            "conv2d_12 (Conv2D)           (None, 9, 9, 128)         73856     \n",
            "_________________________________________________________________\n",
            "max_pooling2d_12 (MaxPooling (None, 4, 4, 128)         0         \n",
            "_________________________________________________________________\n",
            "dropout_8 (Dropout)          (None, 4, 4, 128)         0         \n",
            "_________________________________________________________________\n",
            "flatten_4 (Flatten)          (None, 2048)              0         \n",
            "_________________________________________________________________\n",
            "dense_8 (Dense)              (None, 1024)              2098176   \n",
            "_________________________________________________________________\n",
            "dropout_9 (Dropout)          (None, 1024)              0         \n",
            "_________________________________________________________________\n",
            "dense_9 (Dense)              (None, 7)                 7175      \n",
            "=================================================================\n",
            "Total params: 2,254,887\n",
            "Trainable params: 149,536\n",
            "Non-trainable params: 2,105,351\n",
            "_________________________________________________________________\n",
            "              precision    recall  f1-score   support\n",
            "\n",
            "           0       0.22      0.22      0.22        55\n",
            "           1       0.21      0.17      0.19        41\n",
            "           2       0.19      0.10      0.13        51\n",
            "           3       0.33      0.51      0.40        59\n",
            "           4       0.27      0.37      0.31        52\n",
            "           5       0.19      0.12      0.15        50\n",
            "           6       0.39      0.39      0.39        46\n",
            "\n",
            "    accuracy                           0.27       354\n",
            "   macro avg       0.26      0.27      0.25       354\n",
            "weighted avg       0.26      0.27      0.26       354\n",
            "\n"
          ],
          "name": "stdout"
        }
      ]
    },
    {
      "cell_type": "code",
      "metadata": {
        "id": "nR2-aWp0Q8t7"
      },
      "source": [
        "model.save('/content/drive/MyDrive/DATASETS/test_sfew_192.h5')"
      ],
      "execution_count": null,
      "outputs": []
    },
    {
      "cell_type": "code",
      "metadata": {
        "id": "BY5KNi4rWgtW"
      },
      "source": [
        ""
      ],
      "execution_count": null,
      "outputs": []
    }
  ]
}