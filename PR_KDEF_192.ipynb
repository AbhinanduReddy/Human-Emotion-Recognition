{
  "nbformat": 4,
  "nbformat_minor": 0,
  "metadata": {
    "colab": {
      "name": "PR_KDEF_192.ipynb",
      "provenance": [],
      "collapsed_sections": []
    },
    "kernelspec": {
      "name": "python3",
      "display_name": "Python 3"
    },
    "accelerator": "GPU"
  },
  "cells": [
    {
      "cell_type": "code",
      "metadata": {
        "id": "0XLpjbZQEwpJ"
      },
      "source": [
        "import tensorflow as tf\n",
        "import matplotlib.pyplot as plt\n",
        "\n",
        "from keras.callbacks import EarlyStopping, ModelCheckpoint, ReduceLROnPlateau\n",
        "from keras.applications import ResNet50, Xception, InceptionResNetV2\n",
        "from tensorflow.keras import layers\n",
        "from keras.layers.normalization import BatchNormalization\n",
        "import keras\n",
        "import dlib\n",
        "import cv2\n",
        "from sklearn import preprocessing\n",
        "from imutils import face_utils\n",
        "import numpy as np\n",
        "from keras.optimizers import SGD,Adam\n",
        "from keras.layers import UpSampling2D\n",
        "from tensorflow.keras import Model\n",
        "\n",
        "from keras.utils import to_categorical\n",
        "\n",
        "from keras.models import Sequential\n",
        "from keras.layers import Conv2D, MaxPooling2D, AveragePooling2D\n",
        "from keras.layers import Dense, Activation, Dropout, Flatten\n",
        "\n",
        "from keras.preprocessing import image\n",
        "from keras.preprocessing.image import ImageDataGenerator\n",
        "from PIL import Image\n",
        "from numpy.random import seed\n",
        "from sklearn.metrics import confusion_matrix\n",
        "import matplotlib.pyplot as plt\n",
        "from sklearn.model_selection import train_test_split"
      ],
      "execution_count": null,
      "outputs": []
    },
    {
      "cell_type": "code",
      "metadata": {
        "id": "LoOeOAR5E__E"
      },
      "source": [
        "X_train = np.load('/content/drive/MyDrive/DATASETS/X_train_KDEF_192.npy')\n",
        "y_train = np.load('/content/drive/MyDrive/DATASETS/y_train_KDEF_192.npy')\n",
        "X_test = np.load('/content/drive/MyDrive/DATASETS/X_test_KDEF_192.npy')\n",
        "y_test = np.load('/content/drive/MyDrive/DATASETS/y_test_KDEF_192.npy')"
      ],
      "execution_count": null,
      "outputs": []
    },
    {
      "cell_type": "code",
      "metadata": {
        "colab": {
          "base_uri": "https://localhost:8080/"
        },
        "id": "ObHzuicMFGL8",
        "outputId": "b481f0f5-cd3e-4a3f-b427-88e2021c3d5d"
      },
      "source": [
        "x_train_data = X_train\n",
        "print(x_train_data.shape)\n",
        "y_train_data = to_categorical(y_train, 7)\n",
        "print(y_train_data.shape)\n",
        "x_test_data = X_test\n",
        "print(x_test_data.shape)\n",
        "y_test_data = to_categorical(y_test, 7)\n",
        "print(y_test_data.shape)"
      ],
      "execution_count": null,
      "outputs": [
        {
          "output_type": "stream",
          "text": [
            "(1213, 192, 192, 3)\n",
            "(1213, 7)\n",
            "(1210, 192, 192, 3)\n",
            "(1210, 7)\n"
          ],
          "name": "stdout"
        }
      ]
    },
    {
      "cell_type": "code",
      "metadata": {
        "id": "UdMlgN8HFIIG"
      },
      "source": [
        "from sklearn.model_selection import train_test_split\n",
        "x_train_final, x_valid_final, y_train_final, y_valid_final = train_test_split(x_train_data, y_train_data, test_size=0.1, random_state=42)"
      ],
      "execution_count": null,
      "outputs": []
    },
    {
      "cell_type": "code",
      "metadata": {
        "colab": {
          "base_uri": "https://localhost:8080/"
        },
        "id": "cTGDwGV8FL59",
        "outputId": "bbf24cd1-63f1-4427-b32f-d1a24bd9ac1e"
      },
      "source": [
        "\n",
        "from keras.models import Sequential, load_model\n",
        "\n",
        "model = Sequential()\n",
        "model.add(Conv2D(64, kernel_size=(3, 3), input_shape=(192, 192, 3), activation='relu', padding='same',name='conv192_1'))\n",
        "model.add(Conv2D(64, kernel_size=(3, 3), input_shape=(192,192, 3), activation='relu', padding='same',name='conv192_3'))\n",
        "\n",
        "model.add(Conv2D(32, kernel_size=(3, 3), activation='relu', padding='same',name='conv192_2'))\n",
        "model.add(MaxPooling2D(pool_size=(2, 2),name='maxpool192_1'))\n",
        "\n",
        "\n",
        "prior = load_model('/content/drive/MyDrive/DATASETS/test_96.h5')\n",
        "\n",
        "\n",
        "for layer in prior.layers[3:]:\n",
        "    model.add(layer)\n",
        "\n",
        "\n",
        "for layer in prior.layers[-4:]:\n",
        "    print(layer)\n",
        "    layer.trainable = False\n",
        "from keras.optimizers import RMSprop\n",
        "\n",
        "model.compile(\n",
        "    optimizer=RMSprop(),\n",
        "    loss='categorical_crossentropy',\n",
        "    metrics=['accuracy']\n",
        ")"
      ],
      "execution_count": null,
      "outputs": [
        {
          "output_type": "stream",
          "text": [
            "<tensorflow.python.keras.layers.core.Flatten object at 0x7f1600492128>\n",
            "<tensorflow.python.keras.layers.core.Dense object at 0x7f16004445f8>\n",
            "<tensorflow.python.keras.layers.core.Dropout object at 0x7f16004461d0>\n",
            "<tensorflow.python.keras.layers.core.Dense object at 0x7f160044c358>\n"
          ],
          "name": "stdout"
        }
      ]
    },
    {
      "cell_type": "code",
      "metadata": {
        "colab": {
          "base_uri": "https://localhost:8080/"
        },
        "id": "x94CqHzMFON5",
        "outputId": "bc6c6abd-c35d-4ca2-f026-e91e4b9d6725"
      },
      "source": [
        "\n",
        "#sgd = SGD(lr=0.0001, decay=1e-6, momentum=0.9, nesterov=True)\n",
        "#model.compile(loss='categorical_crossentropy', optimizer='sgd', metrics=['accuracy'])\n",
        "#callbacks = [ModelCheckpoint(weights, monitor='val_loss', save_best_only=True, verbose=0)]\n",
        "adam=Adam(learning_rate=0.001, beta_1=0.9, beta_2=0.999, amsgrad=False)\n",
        "model.compile(loss='categorical_crossentropy',optimizer = Adam(lr = 1e-4), metrics=['accuracy'])\n",
        "\n",
        "#model.fit(x_train_data,y_train_data,batch_size = 64,epochs=100)\n",
        "history = model.fit(x_train_final , y_train_final, batch_size=64,epochs=30,validation_data=(x_valid_final, y_valid_final),verbose=1, use_multiprocessing=True)\n",
        "\n",
        "#model.fit(X_train, Y_train, batch_size = 1000, nb_epoch = 5, verbose = 1, shuffle = True)\n"
      ],
      "execution_count": null,
      "outputs": [
        {
          "output_type": "stream",
          "text": [
            "Epoch 1/30\n",
            "18/18 [==============================] - 6s 284ms/step - loss: 1.9862 - accuracy: 0.2523 - val_loss: 1.7943 - val_accuracy: 0.3770\n",
            "Epoch 2/30\n",
            "18/18 [==============================] - 5s 280ms/step - loss: 1.6186 - accuracy: 0.4733 - val_loss: 1.4258 - val_accuracy: 0.5246\n",
            "Epoch 3/30\n",
            "18/18 [==============================] - 5s 283ms/step - loss: 1.0518 - accuracy: 0.6813 - val_loss: 1.2648 - val_accuracy: 0.4836\n",
            "Epoch 4/30\n",
            "18/18 [==============================] - 5s 286ms/step - loss: 0.7798 - accuracy: 0.7186 - val_loss: 1.1296 - val_accuracy: 0.5738\n",
            "Epoch 5/30\n",
            "18/18 [==============================] - 5s 290ms/step - loss: 0.5499 - accuracy: 0.8112 - val_loss: 1.1304 - val_accuracy: 0.5738\n",
            "Epoch 6/30\n",
            "18/18 [==============================] - 5s 294ms/step - loss: 0.4670 - accuracy: 0.8339 - val_loss: 1.1011 - val_accuracy: 0.6393\n",
            "Epoch 7/30\n",
            "18/18 [==============================] - 5s 293ms/step - loss: 0.4387 - accuracy: 0.8425 - val_loss: 1.2612 - val_accuracy: 0.5492\n",
            "Epoch 8/30\n",
            "18/18 [==============================] - 5s 291ms/step - loss: 0.4981 - accuracy: 0.8260 - val_loss: 1.1358 - val_accuracy: 0.6230\n",
            "Epoch 9/30\n",
            "18/18 [==============================] - 5s 288ms/step - loss: 0.3558 - accuracy: 0.8787 - val_loss: 1.0915 - val_accuracy: 0.6475\n",
            "Epoch 10/30\n",
            "18/18 [==============================] - 5s 285ms/step - loss: 0.3261 - accuracy: 0.8987 - val_loss: 1.1478 - val_accuracy: 0.6230\n",
            "Epoch 11/30\n",
            "18/18 [==============================] - 5s 284ms/step - loss: 0.3068 - accuracy: 0.8839 - val_loss: 1.1101 - val_accuracy: 0.6885\n",
            "Epoch 12/30\n",
            "18/18 [==============================] - 5s 289ms/step - loss: 0.3010 - accuracy: 0.8927 - val_loss: 1.1196 - val_accuracy: 0.6311\n",
            "Epoch 13/30\n",
            "18/18 [==============================] - 5s 284ms/step - loss: 0.2886 - accuracy: 0.9067 - val_loss: 1.1686 - val_accuracy: 0.6311\n",
            "Epoch 14/30\n",
            "18/18 [==============================] - 5s 282ms/step - loss: 0.2546 - accuracy: 0.9103 - val_loss: 1.1953 - val_accuracy: 0.6230\n",
            "Epoch 15/30\n",
            "18/18 [==============================] - 5s 282ms/step - loss: 0.2241 - accuracy: 0.9266 - val_loss: 1.1938 - val_accuracy: 0.6148\n",
            "Epoch 16/30\n",
            "18/18 [==============================] - 5s 284ms/step - loss: 0.2396 - accuracy: 0.9209 - val_loss: 1.1628 - val_accuracy: 0.6557\n",
            "Epoch 17/30\n",
            "18/18 [==============================] - 5s 285ms/step - loss: 0.2183 - accuracy: 0.9146 - val_loss: 1.1759 - val_accuracy: 0.6557\n",
            "Epoch 18/30\n",
            "18/18 [==============================] - 5s 286ms/step - loss: 0.2046 - accuracy: 0.9424 - val_loss: 1.2048 - val_accuracy: 0.6557\n",
            "Epoch 19/30\n",
            "18/18 [==============================] - 5s 286ms/step - loss: 0.2695 - accuracy: 0.9186 - val_loss: 1.3356 - val_accuracy: 0.5902\n",
            "Epoch 20/30\n",
            "18/18 [==============================] - 5s 286ms/step - loss: 0.2482 - accuracy: 0.9019 - val_loss: 1.2428 - val_accuracy: 0.6230\n",
            "Epoch 21/30\n",
            "18/18 [==============================] - 5s 287ms/step - loss: 0.2852 - accuracy: 0.8909 - val_loss: 1.2050 - val_accuracy: 0.6311\n",
            "Epoch 22/30\n",
            "18/18 [==============================] - 5s 288ms/step - loss: 0.2207 - accuracy: 0.9136 - val_loss: 1.2370 - val_accuracy: 0.6311\n",
            "Epoch 23/30\n",
            "18/18 [==============================] - 5s 288ms/step - loss: 0.2047 - accuracy: 0.9306 - val_loss: 1.2628 - val_accuracy: 0.6230\n",
            "Epoch 24/30\n",
            "18/18 [==============================] - 5s 288ms/step - loss: 0.1733 - accuracy: 0.9351 - val_loss: 1.2684 - val_accuracy: 0.6393\n",
            "Epoch 25/30\n",
            "18/18 [==============================] - 5s 288ms/step - loss: 0.1821 - accuracy: 0.9382 - val_loss: 1.2741 - val_accuracy: 0.6393\n",
            "Epoch 26/30\n",
            "18/18 [==============================] - 5s 287ms/step - loss: 0.1770 - accuracy: 0.9389 - val_loss: 1.3422 - val_accuracy: 0.6393\n",
            "Epoch 27/30\n",
            "18/18 [==============================] - 5s 285ms/step - loss: 0.1718 - accuracy: 0.9419 - val_loss: 1.2927 - val_accuracy: 0.6557\n",
            "Epoch 28/30\n",
            "18/18 [==============================] - 5s 286ms/step - loss: 0.1910 - accuracy: 0.9364 - val_loss: 1.3870 - val_accuracy: 0.5984\n",
            "Epoch 29/30\n",
            "18/18 [==============================] - 5s 286ms/step - loss: 0.1761 - accuracy: 0.9265 - val_loss: 1.3097 - val_accuracy: 0.6230\n",
            "Epoch 30/30\n",
            "18/18 [==============================] - 5s 285ms/step - loss: 0.1591 - accuracy: 0.9466 - val_loss: 1.3587 - val_accuracy: 0.6311\n"
          ],
          "name": "stdout"
        }
      ]
    },
    {
      "cell_type": "code",
      "metadata": {
        "id": "B25e9x9aFQlb"
      },
      "source": [
        "import matplotlib.pyplot as plt             \n",
        "\n",
        "def plot_accuracy_loss(history):\n",
        "    fig = plt.figure(figsize=(10,5))\n",
        "    plt.subplot(221)\n",
        "    plt.plot(history.history['accuracy'], label = \"acc\")\n",
        "    plt.plot(history.history['val_accuracy'], label = \"val_acc\")\n",
        "    plt.title(\"train_acc vs val_acc\")\n",
        "    plt.ylabel(\"accuracy\")\n",
        "    plt.xlabel(\"epochs\")\n",
        "    plt.legend()\n",
        "    plt.subplot(222)\n",
        "    plt.plot(history.history['loss'] ,label = \"loss\")\n",
        "    plt.plot(history.history['val_loss'], label = \"val_loss\")\n",
        "    plt.title(\"train_loss vs val_loss\")\n",
        "    plt.ylabel(\"loss\")\n",
        "    plt.xlabel(\"epochs\")\n",
        "\n",
        "    plt.legend()\n",
        "    plt.show()"
      ],
      "execution_count": null,
      "outputs": []
    },
    {
      "cell_type": "code",
      "metadata": {
        "colab": {
          "base_uri": "https://localhost:8080/",
          "height": 201
        },
        "id": "EuHY_3wUFSO8",
        "outputId": "5ecbdd3a-d58f-45bb-ed6b-119400b2be0b"
      },
      "source": [
        "plot_accuracy_loss(history)"
      ],
      "execution_count": null,
      "outputs": [
        {
          "output_type": "display_data",
          "data": {
            "image/png": "[encoded data removed]",
            "text/plain": [
              "<Figure size 720x360 with 2 Axes>"
            ]
          },
          "metadata": {
            "tags": [],
            "needs_background": "light"
          }
        }
      ]
    },
    {
      "cell_type": "code",
      "metadata": {
        "colab": {
          "base_uri": "https://localhost:8080/"
        },
        "id": "9hh2pSd4fBhp",
        "outputId": "370530c6-c6d6-49fa-e133-d6071b90f7a6"
      },
      "source": [
        "from sklearn.metrics import classification_report\n",
        "from keras.models import Sequential, load_model\n",
        "\n",
        "#model=load_model('/content/drive/MyDrive/DATASETS/test2_48.h5')\n",
        "model.summary()\n",
        "predicted = model.predict(X_test)\n",
        "pred_labels = np.argmax(predicted, axis = 1)\n",
        "report = classification_report(y_test, pred_labels)\n",
        "print(report)"
      ],
      "execution_count": null,
      "outputs": [
        {
          "output_type": "stream",
          "text": [
            "Model: \"sequential_1\"\n",
            "_________________________________________________________________\n",
            "Layer (type)                 Output Shape              Param #   \n",
            "=================================================================\n",
            "conv192_1 (Conv2D)           (None, 192, 192, 64)      1792      \n",
            "_________________________________________________________________\n",
            "conv192_3 (Conv2D)           (None, 192, 192, 64)      36928     \n",
            "_________________________________________________________________\n",
            "conv192_2 (Conv2D)           (None, 192, 192, 32)      18464     \n",
            "_________________________________________________________________\n",
            "maxpool192_1 (MaxPooling2D)  (None, 96, 96, 32)        0         \n",
            "_________________________________________________________________\n",
            "maxpool96_1 (MaxPooling2D)   (None, 48, 48, 32)        0         \n",
            "_________________________________________________________________\n",
            "conv2d_1 (Conv2D)            (None, 46, 46, 64)        18496     \n",
            "_________________________________________________________________\n",
            "max_pooling2d (MaxPooling2D) (None, 23, 23, 64)        0         \n",
            "_________________________________________________________________\n",
            "dropout (Dropout)            (None, 23, 23, 64)        0         \n",
            "_________________________________________________________________\n",
            "conv2d_2 (Conv2D)            (None, 21, 21, 128)       73856     \n",
            "_________________________________________________________________\n",
            "max_pooling2d_1 (MaxPooling2 (None, 10, 10, 128)       0         \n",
            "_________________________________________________________________\n",
            "dropout_1 (Dropout)          (None, 10, 10, 128)       0         \n",
            "_________________________________________________________________\n",
            "flatten (Flatten)            (None, 12800)             0         \n",
            "_________________________________________________________________\n",
            "dense (Dense)                (None, 1024)              13108224  \n",
            "_________________________________________________________________\n",
            "dropout_2 (Dropout)          (None, 1024)              0         \n",
            "_________________________________________________________________\n",
            "dense_1 (Dense)              (None, 7)                 7175      \n",
            "=================================================================\n",
            "Total params: 13,264,935\n",
            "Trainable params: 149,536\n",
            "Non-trainable params: 13,115,399\n",
            "_________________________________________________________________\n",
            "              precision    recall  f1-score   support\n",
            "\n",
            "           0       0.41      0.40      0.40       175\n",
            "           1       0.49      0.66      0.56       169\n",
            "           2       0.63      0.69      0.66       170\n",
            "           3       0.81      0.88      0.84       172\n",
            "           4       0.57      0.51      0.54       175\n",
            "           5       0.60      0.44      0.51       175\n",
            "           6       0.75      0.65      0.70       174\n",
            "\n",
            "    accuracy                           0.60      1210\n",
            "   macro avg       0.61      0.60      0.60      1210\n",
            "weighted avg       0.61      0.60      0.60      1210\n",
            "\n"
          ],
          "name": "stdout"
        }
      ]
    },
    {
      "cell_type": "code",
      "metadata": {
        "id": "yr-ZTGhIfE4S"
      },
      "source": [
        "model.save('/content/drive/MyDrive/DATASETS/test_192.h5')"
      ],
      "execution_count": null,
      "outputs": []
    },
    {
      "cell_type": "code",
      "metadata": {
        "id": "RuDwp9aDfNSQ"
      },
      "source": [
        ""
      ],
      "execution_count": null,
      "outputs": []
    }
  ]
}